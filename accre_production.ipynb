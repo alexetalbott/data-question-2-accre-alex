{
 "cells": [
  {
   "cell_type": "code",
   "execution_count": 8,
   "metadata": {},
   "outputs": [
    {
     "name": "stderr",
     "output_type": "stream",
     "text": [
      "C:\\Users\\Alex\\Anaconda3\\lib\\site-packages\\IPython\\core\\interactiveshell.py:2785: DtypeWarning: Columns (0,20) have mixed types. Specify dtype option on import or set low_memory=False.\n",
      "  interactivity=interactivity, compiler=compiler, result=result)\n"
     ]
    }
   ],
   "source": [
    "# import libraries\n",
    "import numpy as np\n",
    "import pandas as pd\n",
    "from datetime import datetime\n",
    "import matplotlib.pyplot as plt\n",
    "\n",
    "# read in data\n",
    "required_cols = ['JobID','Partition', 'Account', 'Group', 'GID',\n",
    "       'User', 'Submit', 'Eligible', 'Start', 'End', 'Elapsed',\n",
    "       'ExitCode', 'State', 'NNodes', 'NCPUS', 'ReqCPUS', 'ReqMem', 'ReqGRES',\n",
    "       'ReqTRES', 'Timelimit', 'NodeList', 'JobName']\n",
    "accre = pd.read_csv('data/accre_data.txt', sep='|', usecols=required_cols)"
   ]
  },
  {
   "cell_type": "code",
   "execution_count": 9,
   "metadata": {},
   "outputs": [
    {
     "data": {
      "text/html": [
       "<div>\n",
       "<style scoped>\n",
       "    .dataframe tbody tr th:only-of-type {\n",
       "        vertical-align: middle;\n",
       "    }\n",
       "\n",
       "    .dataframe tbody tr th {\n",
       "        vertical-align: top;\n",
       "    }\n",
       "\n",
       "    .dataframe thead th {\n",
       "        text-align: right;\n",
       "    }\n",
       "</style>\n",
       "<table border=\"1\" class=\"dataframe\">\n",
       "  <thead>\n",
       "    <tr style=\"text-align: right;\">\n",
       "      <th></th>\n",
       "      <th>JobID</th>\n",
       "      <th>Partition</th>\n",
       "      <th>Account</th>\n",
       "      <th>Group</th>\n",
       "      <th>GID</th>\n",
       "      <th>User</th>\n",
       "      <th>Submit</th>\n",
       "      <th>Eligible</th>\n",
       "      <th>Start</th>\n",
       "      <th>End</th>\n",
       "      <th>...</th>\n",
       "      <th>State</th>\n",
       "      <th>NNodes</th>\n",
       "      <th>NCPUS</th>\n",
       "      <th>ReqCPUS</th>\n",
       "      <th>ReqMem</th>\n",
       "      <th>ReqGRES</th>\n",
       "      <th>ReqTRES</th>\n",
       "      <th>Timelimit</th>\n",
       "      <th>NodeList</th>\n",
       "      <th>JobName</th>\n",
       "    </tr>\n",
       "  </thead>\n",
       "  <tbody>\n",
       "    <tr>\n",
       "      <th>0</th>\n",
       "      <td>15806649</td>\n",
       "      <td>production</td>\n",
       "      <td>h_vuiis</td>\n",
       "      <td>h_vuiis</td>\n",
       "      <td>36052</td>\n",
       "      <td>masispider</td>\n",
       "      <td>2017-07-02T00:40:58</td>\n",
       "      <td>2017-07-02T00:42:59</td>\n",
       "      <td>2017-07-03T02:13:59</td>\n",
       "      <td>2017-07-04T03:19:20</td>\n",
       "      <td>...</td>\n",
       "      <td>COMPLETED</td>\n",
       "      <td>1</td>\n",
       "      <td>2</td>\n",
       "      <td>2</td>\n",
       "      <td>12Gn</td>\n",
       "      <td>NaN</td>\n",
       "      <td>cpu=2,mem=12G,node=1</td>\n",
       "      <td>9-04:00:00</td>\n",
       "      <td>vmp1085</td>\n",
       "      <td>WOODWARD_TCP-x-228324-x-228324-x-301-x-Multi_A...</td>\n",
       "    </tr>\n",
       "    <tr>\n",
       "      <th>1</th>\n",
       "      <td>15806664</td>\n",
       "      <td>production</td>\n",
       "      <td>h_vuiis</td>\n",
       "      <td>h_vuiis</td>\n",
       "      <td>36052</td>\n",
       "      <td>masispider</td>\n",
       "      <td>2017-07-02T00:40:58</td>\n",
       "      <td>2017-07-02T00:42:59</td>\n",
       "      <td>2017-07-03T02:20:08</td>\n",
       "      <td>2017-07-04T02:11:55</td>\n",
       "      <td>...</td>\n",
       "      <td>COMPLETED</td>\n",
       "      <td>1</td>\n",
       "      <td>2</td>\n",
       "      <td>2</td>\n",
       "      <td>12Gn</td>\n",
       "      <td>NaN</td>\n",
       "      <td>cpu=2,mem=12G,node=1</td>\n",
       "      <td>9-04:00:00</td>\n",
       "      <td>vmp1099</td>\n",
       "      <td>WOODWARD_TCP-x-115174-x-115174-x-301-x-Multi_A...</td>\n",
       "    </tr>\n",
       "    <tr>\n",
       "      <th>2</th>\n",
       "      <td>15806670</td>\n",
       "      <td>production</td>\n",
       "      <td>h_vuiis</td>\n",
       "      <td>h_vuiis</td>\n",
       "      <td>36052</td>\n",
       "      <td>masispider</td>\n",
       "      <td>2017-07-02T00:40:58</td>\n",
       "      <td>2017-07-02T00:42:59</td>\n",
       "      <td>2017-07-03T02:41:13</td>\n",
       "      <td>2017-07-04T04:41:04</td>\n",
       "      <td>...</td>\n",
       "      <td>COMPLETED</td>\n",
       "      <td>1</td>\n",
       "      <td>2</td>\n",
       "      <td>2</td>\n",
       "      <td>12Gn</td>\n",
       "      <td>NaN</td>\n",
       "      <td>cpu=2,mem=12G,node=1</td>\n",
       "      <td>9-04:00:00</td>\n",
       "      <td>vmp1126</td>\n",
       "      <td>WOODWARD_TCP-x-215607-x-215607-x-301-x-Multi_A...</td>\n",
       "    </tr>\n",
       "    <tr>\n",
       "      <th>3</th>\n",
       "      <td>15806671</td>\n",
       "      <td>production</td>\n",
       "      <td>h_vuiis</td>\n",
       "      <td>h_vuiis</td>\n",
       "      <td>36052</td>\n",
       "      <td>masispider</td>\n",
       "      <td>2017-07-02T00:40:58</td>\n",
       "      <td>2017-07-02T00:42:59</td>\n",
       "      <td>2017-07-03T02:51:53</td>\n",
       "      <td>2017-07-04T10:54:13</td>\n",
       "      <td>...</td>\n",
       "      <td>COMPLETED</td>\n",
       "      <td>1</td>\n",
       "      <td>2</td>\n",
       "      <td>2</td>\n",
       "      <td>12Gn</td>\n",
       "      <td>NaN</td>\n",
       "      <td>cpu=2,mem=12G,node=1</td>\n",
       "      <td>9-04:00:00</td>\n",
       "      <td>vmp230</td>\n",
       "      <td>WOODWARD_TCP-x-116214-x-116214-x-1701-x-Multi_...</td>\n",
       "    </tr>\n",
       "    <tr>\n",
       "      <th>4</th>\n",
       "      <td>15811617</td>\n",
       "      <td>production</td>\n",
       "      <td>cms_samtest</td>\n",
       "      <td>cms_samtest</td>\n",
       "      <td>59297</td>\n",
       "      <td>uscms010</td>\n",
       "      <td>2017-07-01T05:00:00</td>\n",
       "      <td>2017-07-01T05:00:00</td>\n",
       "      <td>2017-07-01T05:00:01</td>\n",
       "      <td>2017-07-01T05:00:11</td>\n",
       "      <td>...</td>\n",
       "      <td>COMPLETED</td>\n",
       "      <td>1</td>\n",
       "      <td>1</td>\n",
       "      <td>1</td>\n",
       "      <td>4000Mn</td>\n",
       "      <td>NaN</td>\n",
       "      <td>cpu=1,mem=4000M,node=1</td>\n",
       "      <td>2-00:00:00</td>\n",
       "      <td>vmp1242</td>\n",
       "      <td>bl_aa7c22e04f21</td>\n",
       "    </tr>\n",
       "  </tbody>\n",
       "</table>\n",
       "<p>5 rows × 22 columns</p>\n",
       "</div>"
      ],
      "text/plain": [
       "      JobID   Partition      Account        Group    GID        User  \\\n",
       "0  15806649  production      h_vuiis      h_vuiis  36052  masispider   \n",
       "1  15806664  production      h_vuiis      h_vuiis  36052  masispider   \n",
       "2  15806670  production      h_vuiis      h_vuiis  36052  masispider   \n",
       "3  15806671  production      h_vuiis      h_vuiis  36052  masispider   \n",
       "4  15811617  production  cms_samtest  cms_samtest  59297    uscms010   \n",
       "\n",
       "                Submit             Eligible                Start  \\\n",
       "0  2017-07-02T00:40:58  2017-07-02T00:42:59  2017-07-03T02:13:59   \n",
       "1  2017-07-02T00:40:58  2017-07-02T00:42:59  2017-07-03T02:20:08   \n",
       "2  2017-07-02T00:40:58  2017-07-02T00:42:59  2017-07-03T02:41:13   \n",
       "3  2017-07-02T00:40:58  2017-07-02T00:42:59  2017-07-03T02:51:53   \n",
       "4  2017-07-01T05:00:00  2017-07-01T05:00:00  2017-07-01T05:00:01   \n",
       "\n",
       "                   End                        ...                          \\\n",
       "0  2017-07-04T03:19:20                        ...                           \n",
       "1  2017-07-04T02:11:55                        ...                           \n",
       "2  2017-07-04T04:41:04                        ...                           \n",
       "3  2017-07-04T10:54:13                        ...                           \n",
       "4  2017-07-01T05:00:11                        ...                           \n",
       "\n",
       "       State NNodes NCPUS  ReqCPUS  ReqMem  ReqGRES                 ReqTRES  \\\n",
       "0  COMPLETED      1     2        2    12Gn      NaN    cpu=2,mem=12G,node=1   \n",
       "1  COMPLETED      1     2        2    12Gn      NaN    cpu=2,mem=12G,node=1   \n",
       "2  COMPLETED      1     2        2    12Gn      NaN    cpu=2,mem=12G,node=1   \n",
       "3  COMPLETED      1     2        2    12Gn      NaN    cpu=2,mem=12G,node=1   \n",
       "4  COMPLETED      1     1        1  4000Mn      NaN  cpu=1,mem=4000M,node=1   \n",
       "\n",
       "    Timelimit NodeList                                            JobName  \n",
       "0  9-04:00:00  vmp1085  WOODWARD_TCP-x-228324-x-228324-x-301-x-Multi_A...  \n",
       "1  9-04:00:00  vmp1099  WOODWARD_TCP-x-115174-x-115174-x-301-x-Multi_A...  \n",
       "2  9-04:00:00  vmp1126  WOODWARD_TCP-x-215607-x-215607-x-301-x-Multi_A...  \n",
       "3  9-04:00:00   vmp230  WOODWARD_TCP-x-116214-x-116214-x-1701-x-Multi_...  \n",
       "4  2-00:00:00  vmp1242                                    bl_aa7c22e04f21  \n",
       "\n",
       "[5 rows x 22 columns]"
      ]
     },
     "execution_count": 9,
     "metadata": {},
     "output_type": "execute_result"
    }
   ],
   "source": [
    "accre.head()"
   ]
  },
  {
   "cell_type": "code",
   "execution_count": 15,
   "metadata": {},
   "outputs": [
    {
     "data": {
      "text/plain": [
       "(12499389, 22)"
      ]
     },
     "execution_count": 15,
     "metadata": {},
     "output_type": "execute_result"
    }
   ],
   "source": [
    "# look at the shape of the dataset\n",
    "accre.shape"
   ]
  },
  {
   "cell_type": "code",
   "execution_count": 16,
   "metadata": {},
   "outputs": [
    {
     "data": {
      "text/plain": [
       "Index(['JobID', 'Partition', 'Account', 'Group', 'GID', 'User', 'Submit',\n",
       "       'Eligible', 'Start', 'End', 'Elapsed', 'ExitCode', 'State', 'NNodes',\n",
       "       'NCPUS', 'ReqCPUS', 'ReqMem', 'ReqGRES', 'ReqTRES', 'Timelimit',\n",
       "       'NodeList', 'JobName'],\n",
       "      dtype='object')"
      ]
     },
     "execution_count": 16,
     "metadata": {},
     "output_type": "execute_result"
    }
   ],
   "source": [
    "# identify the column names of the dataset\n",
    "accre.columns"
   ]
  },
  {
   "cell_type": "code",
   "execution_count": 19,
   "metadata": {},
   "outputs": [
    {
     "data": {
      "text/plain": [
       "19224428_76       2\n",
       "26828657_2        2\n",
       "26764369_75       2\n",
       "19224428_122      2\n",
       "19224420_105      2\n",
       "16905237          2\n",
       "26764369_7        2\n",
       "26828657_43       2\n",
       "26828657_100      2\n",
       "26764369_35       2\n",
       "21748064          2\n",
       "26827147_93       2\n",
       "19224428_80       2\n",
       "19224428_91       2\n",
       "26827147_82       2\n",
       "16891962_24       2\n",
       "16912682          2\n",
       "26747804_25       2\n",
       "26749987_28       2\n",
       "16891962_27       2\n",
       "19224420_124      2\n",
       "26763523_21       2\n",
       "26782504          2\n",
       "16891962_12       2\n",
       "26828657_85       2\n",
       "26828657_31       2\n",
       "26827147_2        2\n",
       "26747804_4        2\n",
       "16905197_0        2\n",
       "26827147_54       2\n",
       "                 ..\n",
       "16883505          1\n",
       "27608659          1\n",
       "18557606_5086     1\n",
       "21854163          1\n",
       "20718421          1\n",
       "22505070          1\n",
       "26313326_102      1\n",
       "27516876_217      1\n",
       "25612959          1\n",
       "27688268          1\n",
       "26929857_256      1\n",
       "17931172          1\n",
       "25875914_2        1\n",
       "19996232          1\n",
       "28109759_10108    1\n",
       "22287256          1\n",
       "21676503          1\n",
       "27453431          1\n",
       "24631188          1\n",
       "21125866          1\n",
       "21394586          1\n",
       "16268653_294      1\n",
       "20436270          1\n",
       "25454932          1\n",
       "21454945          1\n",
       "19396137_1075     1\n",
       "27000771          1\n",
       "28088702          1\n",
       "25100780          1\n",
       "21165137_73       1\n",
       "Name: JobID, Length: 5000, dtype: int64"
      ]
     },
     "execution_count": 19,
     "metadata": {},
     "output_type": "execute_result"
    }
   ],
   "source": [
    "# check data types\n",
    "accre.JobID.value_counts(ascending=False).head(5000)"
   ]
  },
  {
   "cell_type": "code",
   "execution_count": 14,
   "metadata": {},
   "outputs": [],
   "source": [
    "# convert Submit and Start to datetime\n",
    "accre['Submit'] = pd.to_datetime(accre['Submit'], format='%Y/%m/%d')\n",
    "accre['Start'] = pd.to_datetime(accre['Start'], format='%Y/%m/%d')"
   ]
  },
  {
   "cell_type": "code",
   "execution_count": 15,
   "metadata": {},
   "outputs": [
    {
     "data": {
      "text/plain": [
       "0   2017-07-02 00:40:58\n",
       "1   2017-07-02 00:40:58\n",
       "2   2017-07-02 00:40:58\n",
       "3   2017-07-02 00:40:58\n",
       "4   2017-07-01 05:00:00\n",
       "Name: Submit, dtype: datetime64[ns]"
      ]
     },
     "execution_count": 15,
     "metadata": {},
     "output_type": "execute_result"
    }
   ],
   "source": [
    "# check head of Submit\n",
    "accre.Submit.head()"
   ]
  },
  {
   "cell_type": "code",
   "execution_count": 9,
   "metadata": {},
   "outputs": [
    {
     "data": {
      "text/plain": [
       "0   2017-07-03 02:13:59\n",
       "1   2017-07-03 02:20:08\n",
       "2   2017-07-03 02:41:13\n",
       "3   2017-07-03 02:51:53\n",
       "4   2017-07-01 05:00:01\n",
       "Name: Start, dtype: datetime64[ns]"
      ]
     },
     "execution_count": 9,
     "metadata": {},
     "output_type": "execute_result"
    }
   ],
   "source": [
    "# check head of Start\n",
    "accre.Start.head()"
   ]
  },
  {
   "cell_type": "code",
   "execution_count": 10,
   "metadata": {},
   "outputs": [
    {
     "data": {
      "text/plain": [
       "0   1 days 01:33:01\n",
       "1   1 days 01:39:10\n",
       "2   1 days 02:00:15\n",
       "3   1 days 02:10:55\n",
       "4   0 days 00:00:01\n",
       "Name: Queue_Time, dtype: timedelta64[ns]"
      ]
     },
     "execution_count": 10,
     "metadata": {},
     "output_type": "execute_result"
    }
   ],
   "source": [
    "# create Queue_Time column = Start - Submit\n",
    "accre['Queue_Time'] = accre['Start'] - accre['Submit']\n",
    "accre.Queue_Time.head()"
   ]
  },
  {
   "cell_type": "code",
   "execution_count": null,
   "metadata": {},
   "outputs": [],
   "source": []
  }
 ],
 "metadata": {
  "kernelspec": {
   "display_name": "Python 3",
   "language": "python",
   "name": "python3"
  },
  "language_info": {
   "codemirror_mode": {
    "name": "ipython",
    "version": 3
   },
   "file_extension": ".py",
   "mimetype": "text/x-python",
   "name": "python",
   "nbconvert_exporter": "python",
   "pygments_lexer": "ipython3",
   "version": "3.6.5"
  }
 },
 "nbformat": 4,
 "nbformat_minor": 2
}
