{
 "cells": [
  {
   "cell_type": "markdown",
   "metadata": {},
   "source": [
    "# Accor Data"
   ]
  },
  {
   "cell_type": "code",
   "execution_count": 1,
   "metadata": {},
   "outputs": [],
   "source": [
    "import pandas as pd\n",
    "import numpy as np\n",
    "from datetime import datetime, timedelta\n",
    "import time\n",
    "import matplotlib.pyplot as plt\n",
    "import seaborn as sns\n",
    "\n",
    "%matplotlib inline"
   ]
  },
  {
   "cell_type": "code",
   "execution_count": 2,
   "metadata": {},
   "outputs": [
    {
     "data": {
      "text/html": [
       "<div>\n",
       "<style scoped>\n",
       "    .dataframe tbody tr th:only-of-type {\n",
       "        vertical-align: middle;\n",
       "    }\n",
       "\n",
       "    .dataframe tbody tr th {\n",
       "        vertical-align: top;\n",
       "    }\n",
       "\n",
       "    .dataframe thead th {\n",
       "        text-align: right;\n",
       "    }\n",
       "</style>\n",
       "<table border=\"1\" class=\"dataframe\">\n",
       "  <thead>\n",
       "    <tr style=\"text-align: right;\">\n",
       "      <th></th>\n",
       "      <th>JobID</th>\n",
       "      <th>JobIDRaw</th>\n",
       "      <th>Cluster</th>\n",
       "      <th>Partition</th>\n",
       "      <th>Account</th>\n",
       "      <th>Group</th>\n",
       "      <th>GID</th>\n",
       "      <th>User</th>\n",
       "      <th>UID</th>\n",
       "      <th>Submit</th>\n",
       "      <th>...</th>\n",
       "      <th>State</th>\n",
       "      <th>NNodes</th>\n",
       "      <th>NCPUS</th>\n",
       "      <th>ReqCPUS</th>\n",
       "      <th>ReqMem</th>\n",
       "      <th>ReqGRES</th>\n",
       "      <th>ReqTRES</th>\n",
       "      <th>Timelimit</th>\n",
       "      <th>NodeList</th>\n",
       "      <th>JobName</th>\n",
       "    </tr>\n",
       "  </thead>\n",
       "  <tbody>\n",
       "    <tr>\n",
       "      <th>0</th>\n",
       "      <td>15806649</td>\n",
       "      <td>15806649</td>\n",
       "      <td>accre</td>\n",
       "      <td>production</td>\n",
       "      <td>h_vuiis</td>\n",
       "      <td>h_vuiis</td>\n",
       "      <td>36052</td>\n",
       "      <td>masispider</td>\n",
       "      <td>NaN</td>\n",
       "      <td>2017-07-02T00:40:58</td>\n",
       "      <td>...</td>\n",
       "      <td>COMPLETED</td>\n",
       "      <td>1</td>\n",
       "      <td>2</td>\n",
       "      <td>2</td>\n",
       "      <td>12Gn</td>\n",
       "      <td>NaN</td>\n",
       "      <td>cpu=2,mem=12G,node=1</td>\n",
       "      <td>9-04:00:00</td>\n",
       "      <td>vmp1085</td>\n",
       "      <td>WOODWARD_TCP-x-228324-x-228324-x-301-x-Multi_A...</td>\n",
       "    </tr>\n",
       "    <tr>\n",
       "      <th>1</th>\n",
       "      <td>15806664</td>\n",
       "      <td>15806664</td>\n",
       "      <td>accre</td>\n",
       "      <td>production</td>\n",
       "      <td>h_vuiis</td>\n",
       "      <td>h_vuiis</td>\n",
       "      <td>36052</td>\n",
       "      <td>masispider</td>\n",
       "      <td>NaN</td>\n",
       "      <td>2017-07-02T00:40:58</td>\n",
       "      <td>...</td>\n",
       "      <td>COMPLETED</td>\n",
       "      <td>1</td>\n",
       "      <td>2</td>\n",
       "      <td>2</td>\n",
       "      <td>12Gn</td>\n",
       "      <td>NaN</td>\n",
       "      <td>cpu=2,mem=12G,node=1</td>\n",
       "      <td>9-04:00:00</td>\n",
       "      <td>vmp1099</td>\n",
       "      <td>WOODWARD_TCP-x-115174-x-115174-x-301-x-Multi_A...</td>\n",
       "    </tr>\n",
       "    <tr>\n",
       "      <th>2</th>\n",
       "      <td>15806670</td>\n",
       "      <td>15806670</td>\n",
       "      <td>accre</td>\n",
       "      <td>production</td>\n",
       "      <td>h_vuiis</td>\n",
       "      <td>h_vuiis</td>\n",
       "      <td>36052</td>\n",
       "      <td>masispider</td>\n",
       "      <td>NaN</td>\n",
       "      <td>2017-07-02T00:40:58</td>\n",
       "      <td>...</td>\n",
       "      <td>COMPLETED</td>\n",
       "      <td>1</td>\n",
       "      <td>2</td>\n",
       "      <td>2</td>\n",
       "      <td>12Gn</td>\n",
       "      <td>NaN</td>\n",
       "      <td>cpu=2,mem=12G,node=1</td>\n",
       "      <td>9-04:00:00</td>\n",
       "      <td>vmp1126</td>\n",
       "      <td>WOODWARD_TCP-x-215607-x-215607-x-301-x-Multi_A...</td>\n",
       "    </tr>\n",
       "    <tr>\n",
       "      <th>3</th>\n",
       "      <td>15806671</td>\n",
       "      <td>15806671</td>\n",
       "      <td>accre</td>\n",
       "      <td>production</td>\n",
       "      <td>h_vuiis</td>\n",
       "      <td>h_vuiis</td>\n",
       "      <td>36052</td>\n",
       "      <td>masispider</td>\n",
       "      <td>NaN</td>\n",
       "      <td>2017-07-02T00:40:58</td>\n",
       "      <td>...</td>\n",
       "      <td>COMPLETED</td>\n",
       "      <td>1</td>\n",
       "      <td>2</td>\n",
       "      <td>2</td>\n",
       "      <td>12Gn</td>\n",
       "      <td>NaN</td>\n",
       "      <td>cpu=2,mem=12G,node=1</td>\n",
       "      <td>9-04:00:00</td>\n",
       "      <td>vmp230</td>\n",
       "      <td>WOODWARD_TCP-x-116214-x-116214-x-1701-x-Multi_...</td>\n",
       "    </tr>\n",
       "    <tr>\n",
       "      <th>4</th>\n",
       "      <td>15811617</td>\n",
       "      <td>15811617</td>\n",
       "      <td>accre</td>\n",
       "      <td>production</td>\n",
       "      <td>cms_samtest</td>\n",
       "      <td>cms_samtest</td>\n",
       "      <td>59297</td>\n",
       "      <td>uscms010</td>\n",
       "      <td>NaN</td>\n",
       "      <td>2017-07-01T05:00:00</td>\n",
       "      <td>...</td>\n",
       "      <td>COMPLETED</td>\n",
       "      <td>1</td>\n",
       "      <td>1</td>\n",
       "      <td>1</td>\n",
       "      <td>4000Mn</td>\n",
       "      <td>NaN</td>\n",
       "      <td>cpu=1,mem=4000M,node=1</td>\n",
       "      <td>2-00:00:00</td>\n",
       "      <td>vmp1242</td>\n",
       "      <td>bl_aa7c22e04f21</td>\n",
       "    </tr>\n",
       "    <tr>\n",
       "      <th>5</th>\n",
       "      <td>15811618</td>\n",
       "      <td>15811618</td>\n",
       "      <td>accre</td>\n",
       "      <td>production</td>\n",
       "      <td>cms_stage2</td>\n",
       "      <td>cms_stage1</td>\n",
       "      <td>59298</td>\n",
       "      <td>autocms</td>\n",
       "      <td>9209.0</td>\n",
       "      <td>2017-07-01T05:00:01</td>\n",
       "      <td>...</td>\n",
       "      <td>COMPLETED</td>\n",
       "      <td>1</td>\n",
       "      <td>1</td>\n",
       "      <td>1</td>\n",
       "      <td>2Gc</td>\n",
       "      <td>NaN</td>\n",
       "      <td>cpu=1,mem=2G,node=1</td>\n",
       "      <td>12:00:00</td>\n",
       "      <td>vmp1063</td>\n",
       "      <td>skim_test</td>\n",
       "    </tr>\n",
       "    <tr>\n",
       "      <th>6</th>\n",
       "      <td>15811619</td>\n",
       "      <td>15811619</td>\n",
       "      <td>accre</td>\n",
       "      <td>production</td>\n",
       "      <td>cms_stage2</td>\n",
       "      <td>cms</td>\n",
       "      <td>31000</td>\n",
       "      <td>tuos</td>\n",
       "      <td>126986.0</td>\n",
       "      <td>2017-07-01T05:00:02</td>\n",
       "      <td>...</td>\n",
       "      <td>COMPLETED</td>\n",
       "      <td>1</td>\n",
       "      <td>1</td>\n",
       "      <td>1</td>\n",
       "      <td>2Gc</td>\n",
       "      <td>NaN</td>\n",
       "      <td>cpu=1,mem=2G,node=1</td>\n",
       "      <td>12:00:00</td>\n",
       "      <td>vmp1062</td>\n",
       "      <td>skim_test</td>\n",
       "    </tr>\n",
       "    <tr>\n",
       "      <th>7</th>\n",
       "      <td>15811621</td>\n",
       "      <td>15811621</td>\n",
       "      <td>accre</td>\n",
       "      <td>production</td>\n",
       "      <td>cms_samtest</td>\n",
       "      <td>cms_samtest</td>\n",
       "      <td>59297</td>\n",
       "      <td>uscms010</td>\n",
       "      <td>NaN</td>\n",
       "      <td>2017-07-01T05:00:22</td>\n",
       "      <td>...</td>\n",
       "      <td>COMPLETED</td>\n",
       "      <td>1</td>\n",
       "      <td>1</td>\n",
       "      <td>1</td>\n",
       "      <td>4000Mn</td>\n",
       "      <td>NaN</td>\n",
       "      <td>cpu=1,mem=4000M,node=1</td>\n",
       "      <td>2-00:00:00</td>\n",
       "      <td>vmp1242</td>\n",
       "      <td>bl_33ee450ebdc4</td>\n",
       "    </tr>\n",
       "    <tr>\n",
       "      <th>8</th>\n",
       "      <td>15811624</td>\n",
       "      <td>15811624</td>\n",
       "      <td>accre</td>\n",
       "      <td>production</td>\n",
       "      <td>cms_stage2</td>\n",
       "      <td>cms_stage1</td>\n",
       "      <td>59298</td>\n",
       "      <td>autocms</td>\n",
       "      <td>9209.0</td>\n",
       "      <td>2017-07-01T05:01:01</td>\n",
       "      <td>...</td>\n",
       "      <td>COMPLETED</td>\n",
       "      <td>1</td>\n",
       "      <td>1</td>\n",
       "      <td>1</td>\n",
       "      <td>2Gc</td>\n",
       "      <td>NaN</td>\n",
       "      <td>cpu=1,mem=2G,node=1</td>\n",
       "      <td>12:00:00</td>\n",
       "      <td>vmp670</td>\n",
       "      <td>skim_test</td>\n",
       "    </tr>\n",
       "    <tr>\n",
       "      <th>9</th>\n",
       "      <td>15811625</td>\n",
       "      <td>15811625</td>\n",
       "      <td>accre</td>\n",
       "      <td>production</td>\n",
       "      <td>cms_stage2</td>\n",
       "      <td>cms</td>\n",
       "      <td>31000</td>\n",
       "      <td>tuos</td>\n",
       "      <td>126986.0</td>\n",
       "      <td>2017-07-01T05:01:02</td>\n",
       "      <td>...</td>\n",
       "      <td>COMPLETED</td>\n",
       "      <td>1</td>\n",
       "      <td>1</td>\n",
       "      <td>1</td>\n",
       "      <td>2Gc</td>\n",
       "      <td>NaN</td>\n",
       "      <td>cpu=1,mem=2G,node=1</td>\n",
       "      <td>12:00:00</td>\n",
       "      <td>vmp1078</td>\n",
       "      <td>skim_test</td>\n",
       "    </tr>\n",
       "  </tbody>\n",
       "</table>\n",
       "<p>10 rows × 25 columns</p>\n",
       "</div>"
      ],
      "text/plain": [
       "      JobID  JobIDRaw Cluster   Partition      Account        Group    GID  \\\n",
       "0  15806649  15806649   accre  production      h_vuiis      h_vuiis  36052   \n",
       "1  15806664  15806664   accre  production      h_vuiis      h_vuiis  36052   \n",
       "2  15806670  15806670   accre  production      h_vuiis      h_vuiis  36052   \n",
       "3  15806671  15806671   accre  production      h_vuiis      h_vuiis  36052   \n",
       "4  15811617  15811617   accre  production  cms_samtest  cms_samtest  59297   \n",
       "5  15811618  15811618   accre  production   cms_stage2   cms_stage1  59298   \n",
       "6  15811619  15811619   accre  production   cms_stage2          cms  31000   \n",
       "7  15811621  15811621   accre  production  cms_samtest  cms_samtest  59297   \n",
       "8  15811624  15811624   accre  production   cms_stage2   cms_stage1  59298   \n",
       "9  15811625  15811625   accre  production   cms_stage2          cms  31000   \n",
       "\n",
       "         User       UID               Submit  \\\n",
       "0  masispider       NaN  2017-07-02T00:40:58   \n",
       "1  masispider       NaN  2017-07-02T00:40:58   \n",
       "2  masispider       NaN  2017-07-02T00:40:58   \n",
       "3  masispider       NaN  2017-07-02T00:40:58   \n",
       "4    uscms010       NaN  2017-07-01T05:00:00   \n",
       "5     autocms    9209.0  2017-07-01T05:00:01   \n",
       "6        tuos  126986.0  2017-07-01T05:00:02   \n",
       "7    uscms010       NaN  2017-07-01T05:00:22   \n",
       "8     autocms    9209.0  2017-07-01T05:01:01   \n",
       "9        tuos  126986.0  2017-07-01T05:01:02   \n",
       "\n",
       "                         ...                              State NNodes NCPUS  \\\n",
       "0                        ...                          COMPLETED      1     2   \n",
       "1                        ...                          COMPLETED      1     2   \n",
       "2                        ...                          COMPLETED      1     2   \n",
       "3                        ...                          COMPLETED      1     2   \n",
       "4                        ...                          COMPLETED      1     1   \n",
       "5                        ...                          COMPLETED      1     1   \n",
       "6                        ...                          COMPLETED      1     1   \n",
       "7                        ...                          COMPLETED      1     1   \n",
       "8                        ...                          COMPLETED      1     1   \n",
       "9                        ...                          COMPLETED      1     1   \n",
       "\n",
       "  ReqCPUS  ReqMem ReqGRES                 ReqTRES   Timelimit  NodeList  \\\n",
       "0       2    12Gn     NaN    cpu=2,mem=12G,node=1  9-04:00:00   vmp1085   \n",
       "1       2    12Gn     NaN    cpu=2,mem=12G,node=1  9-04:00:00   vmp1099   \n",
       "2       2    12Gn     NaN    cpu=2,mem=12G,node=1  9-04:00:00   vmp1126   \n",
       "3       2    12Gn     NaN    cpu=2,mem=12G,node=1  9-04:00:00    vmp230   \n",
       "4       1  4000Mn     NaN  cpu=1,mem=4000M,node=1  2-00:00:00   vmp1242   \n",
       "5       1     2Gc     NaN     cpu=1,mem=2G,node=1    12:00:00   vmp1063   \n",
       "6       1     2Gc     NaN     cpu=1,mem=2G,node=1    12:00:00   vmp1062   \n",
       "7       1  4000Mn     NaN  cpu=1,mem=4000M,node=1  2-00:00:00   vmp1242   \n",
       "8       1     2Gc     NaN     cpu=1,mem=2G,node=1    12:00:00    vmp670   \n",
       "9       1     2Gc     NaN     cpu=1,mem=2G,node=1    12:00:00   vmp1078   \n",
       "\n",
       "                                             JobName  \n",
       "0  WOODWARD_TCP-x-228324-x-228324-x-301-x-Multi_A...  \n",
       "1  WOODWARD_TCP-x-115174-x-115174-x-301-x-Multi_A...  \n",
       "2  WOODWARD_TCP-x-215607-x-215607-x-301-x-Multi_A...  \n",
       "3  WOODWARD_TCP-x-116214-x-116214-x-1701-x-Multi_...  \n",
       "4                                    bl_aa7c22e04f21  \n",
       "5                                          skim_test  \n",
       "6                                          skim_test  \n",
       "7                                    bl_33ee450ebdc4  \n",
       "8                                          skim_test  \n",
       "9                                          skim_test  \n",
       "\n",
       "[10 rows x 25 columns]"
      ]
     },
     "execution_count": 2,
     "metadata": {},
     "output_type": "execute_result"
    }
   ],
   "source": [
    "#accre = pd.read_csv('./data/july-2017-thru-june-2018.txt', sep=\"|\", chunksize=5000).get_chunk()\n",
    "accre = pd.read_csv('./data/july-2017-thru-june-2018.txt', sep=\"|\", low_memory=False)\n",
    "accre.head(10)"
   ]
  },
  {
   "cell_type": "code",
   "execution_count": 3,
   "metadata": {},
   "outputs": [
    {
     "name": "stdout",
     "output_type": "stream",
     "text": [
      "<class 'pandas.core.frame.DataFrame'>\n",
      "RangeIndex: 12499389 entries, 0 to 12499388\n",
      "Data columns (total 25 columns):\n",
      "JobID        object\n",
      "JobIDRaw     int64\n",
      "Cluster      object\n",
      "Partition    object\n",
      "Account      object\n",
      "Group        object\n",
      "GID          int64\n",
      "User         object\n",
      "UID          float64\n",
      "Submit       object\n",
      "Eligible     object\n",
      "Start        object\n",
      "End          object\n",
      "Elapsed      object\n",
      "ExitCode     object\n",
      "State        object\n",
      "NNodes       int64\n",
      "NCPUS        int64\n",
      "ReqCPUS      int64\n",
      "ReqMem       object\n",
      "ReqGRES      object\n",
      "ReqTRES      object\n",
      "Timelimit    object\n",
      "NodeList     object\n",
      "JobName      object\n",
      "dtypes: float64(1), int64(5), object(19)\n",
      "memory usage: 2.3+ GB\n"
     ]
    }
   ],
   "source": [
    "accre.info()"
   ]
  },
  {
   "cell_type": "code",
   "execution_count": 4,
   "metadata": {},
   "outputs": [
    {
     "data": {
      "text/plain": [
       "(12499389, 25)"
      ]
     },
     "execution_count": 4,
     "metadata": {},
     "output_type": "execute_result"
    }
   ],
   "source": [
    "accre.shape"
   ]
  },
  {
   "cell_type": "code",
   "execution_count": 5,
   "metadata": {},
   "outputs": [
    {
     "data": {
      "text/plain": [
       "Index(['JobID', 'JobIDRaw', 'Cluster', 'Partition', 'Account', 'Group', 'GID',\n",
       "       'User', 'UID', 'Submit', 'Eligible', 'Start', 'End', 'Elapsed',\n",
       "       'ExitCode', 'State', 'NNodes', 'NCPUS', 'ReqCPUS', 'ReqMem', 'ReqGRES',\n",
       "       'ReqTRES', 'Timelimit', 'NodeList', 'JobName'],\n",
       "      dtype='object')"
      ]
     },
     "execution_count": 5,
     "metadata": {},
     "output_type": "execute_result"
    }
   ],
   "source": [
    "accre.columns"
   ]
  },
  {
   "cell_type": "code",
   "execution_count": 6,
   "metadata": {},
   "outputs": [],
   "source": [
    "# convert Submit and Start to datetime\n",
    "accre['Submit'] = pd.to_datetime(accre['Submit'], format='%Y/%m/%d')\n",
    "accre['Start'] = pd.to_datetime(accre['Start'], format='%Y/%m/%d')\n",
    "accre['End'] = pd.to_datetime(accre['End'], format='%Y/%m/%d')"
   ]
  },
  {
   "cell_type": "code",
   "execution_count": 7,
   "metadata": {},
   "outputs": [
    {
     "data": {
      "text/plain": [
       "0   2017-07-02 00:40:58\n",
       "1   2017-07-02 00:40:58\n",
       "2   2017-07-02 00:40:58\n",
       "3   2017-07-02 00:40:58\n",
       "4   2017-07-01 05:00:00\n",
       "Name: Submit, dtype: datetime64[ns]"
      ]
     },
     "execution_count": 7,
     "metadata": {},
     "output_type": "execute_result"
    }
   ],
   "source": [
    "# check head of Submit\n",
    "accre.Submit.head()"
   ]
  },
  {
   "cell_type": "code",
   "execution_count": 8,
   "metadata": {},
   "outputs": [
    {
     "data": {
      "text/plain": [
       "0   2017-07-03 02:13:59\n",
       "1   2017-07-03 02:20:08\n",
       "2   2017-07-03 02:41:13\n",
       "3   2017-07-03 02:51:53\n",
       "4   2017-07-01 05:00:01\n",
       "Name: Start, dtype: datetime64[ns]"
      ]
     },
     "execution_count": 8,
     "metadata": {},
     "output_type": "execute_result"
    }
   ],
   "source": [
    "# check head of Start\n",
    "accre.Start.head()"
   ]
  },
  {
   "cell_type": "code",
   "execution_count": 10,
   "metadata": {},
   "outputs": [
    {
     "data": {
      "text/plain": [
       "0   1 days 01:05:21\n",
       "1   0 days 23:51:47\n",
       "2   1 days 01:59:51\n",
       "3   1 days 08:02:20\n",
       "4   0 days 00:00:10\n",
       "Name: Elapsed_calc, dtype: timedelta64[ns]"
      ]
     },
     "execution_count": 10,
     "metadata": {},
     "output_type": "execute_result"
    }
   ],
   "source": [
    "# create Elapsed_calc column = End - Start # Just to check if there is any difference....\n",
    "accre['Elapsed_calc'] = accre['End'] - accre['Start']\n",
    "accre.Elapsed_calc.head()"
   ]
  },
  {
   "cell_type": "code",
   "execution_count": 15,
   "metadata": {},
   "outputs": [
    {
     "data": {
      "text/html": [
       "<div>\n",
       "<style scoped>\n",
       "    .dataframe tbody tr th:only-of-type {\n",
       "        vertical-align: middle;\n",
       "    }\n",
       "\n",
       "    .dataframe tbody tr th {\n",
       "        vertical-align: top;\n",
       "    }\n",
       "\n",
       "    .dataframe thead th {\n",
       "        text-align: right;\n",
       "    }\n",
       "</style>\n",
       "<table border=\"1\" class=\"dataframe\">\n",
       "  <thead>\n",
       "    <tr style=\"text-align: right;\">\n",
       "      <th></th>\n",
       "      <th>JobID</th>\n",
       "      <th>JobIDRaw</th>\n",
       "      <th>Account</th>\n",
       "      <th>Group</th>\n",
       "      <th>GID</th>\n",
       "      <th>User</th>\n",
       "      <th>Submit</th>\n",
       "      <th>End</th>\n",
       "      <th>Elapsed_calc</th>\n",
       "      <th>Elapsed</th>\n",
       "    </tr>\n",
       "  </thead>\n",
       "  <tbody>\n",
       "    <tr>\n",
       "      <th>0</th>\n",
       "      <td>15806649</td>\n",
       "      <td>15806649</td>\n",
       "      <td>h_vuiis</td>\n",
       "      <td>h_vuiis</td>\n",
       "      <td>36052</td>\n",
       "      <td>masispider</td>\n",
       "      <td>2017-07-02 00:40:58</td>\n",
       "      <td>2017-07-04 03:19:20</td>\n",
       "      <td>1 days 01:05:21</td>\n",
       "      <td>1-01:05:21</td>\n",
       "    </tr>\n",
       "    <tr>\n",
       "      <th>1</th>\n",
       "      <td>15806664</td>\n",
       "      <td>15806664</td>\n",
       "      <td>h_vuiis</td>\n",
       "      <td>h_vuiis</td>\n",
       "      <td>36052</td>\n",
       "      <td>masispider</td>\n",
       "      <td>2017-07-02 00:40:58</td>\n",
       "      <td>2017-07-04 02:11:55</td>\n",
       "      <td>0 days 23:51:47</td>\n",
       "      <td>23:51:47</td>\n",
       "    </tr>\n",
       "    <tr>\n",
       "      <th>2</th>\n",
       "      <td>15806670</td>\n",
       "      <td>15806670</td>\n",
       "      <td>h_vuiis</td>\n",
       "      <td>h_vuiis</td>\n",
       "      <td>36052</td>\n",
       "      <td>masispider</td>\n",
       "      <td>2017-07-02 00:40:58</td>\n",
       "      <td>2017-07-04 04:41:04</td>\n",
       "      <td>1 days 01:59:51</td>\n",
       "      <td>1-01:59:51</td>\n",
       "    </tr>\n",
       "    <tr>\n",
       "      <th>3</th>\n",
       "      <td>15806671</td>\n",
       "      <td>15806671</td>\n",
       "      <td>h_vuiis</td>\n",
       "      <td>h_vuiis</td>\n",
       "      <td>36052</td>\n",
       "      <td>masispider</td>\n",
       "      <td>2017-07-02 00:40:58</td>\n",
       "      <td>2017-07-04 10:54:13</td>\n",
       "      <td>1 days 08:02:20</td>\n",
       "      <td>1-08:02:20</td>\n",
       "    </tr>\n",
       "    <tr>\n",
       "      <th>4</th>\n",
       "      <td>15811617</td>\n",
       "      <td>15811617</td>\n",
       "      <td>cms_samtest</td>\n",
       "      <td>cms_samtest</td>\n",
       "      <td>59297</td>\n",
       "      <td>uscms010</td>\n",
       "      <td>2017-07-01 05:00:00</td>\n",
       "      <td>2017-07-01 05:00:11</td>\n",
       "      <td>0 days 00:00:10</td>\n",
       "      <td>00:00:10</td>\n",
       "    </tr>\n",
       "  </tbody>\n",
       "</table>\n",
       "</div>"
      ],
      "text/plain": [
       "      JobID  JobIDRaw      Account        Group    GID        User  \\\n",
       "0  15806649  15806649      h_vuiis      h_vuiis  36052  masispider   \n",
       "1  15806664  15806664      h_vuiis      h_vuiis  36052  masispider   \n",
       "2  15806670  15806670      h_vuiis      h_vuiis  36052  masispider   \n",
       "3  15806671  15806671      h_vuiis      h_vuiis  36052  masispider   \n",
       "4  15811617  15811617  cms_samtest  cms_samtest  59297    uscms010   \n",
       "\n",
       "               Submit                 End    Elapsed_calc     Elapsed  \n",
       "0 2017-07-02 00:40:58 2017-07-04 03:19:20 1 days 01:05:21  1-01:05:21  \n",
       "1 2017-07-02 00:40:58 2017-07-04 02:11:55 0 days 23:51:47    23:51:47  \n",
       "2 2017-07-02 00:40:58 2017-07-04 04:41:04 1 days 01:59:51  1-01:59:51  \n",
       "3 2017-07-02 00:40:58 2017-07-04 10:54:13 1 days 08:02:20  1-08:02:20  \n",
       "4 2017-07-01 05:00:00 2017-07-01 05:00:11 0 days 00:00:10    00:00:10  "
      ]
     },
     "execution_count": 15,
     "metadata": {},
     "output_type": "execute_result"
    }
   ],
   "source": [
    "# pick columns: 'Elapsed', 'User', 'Group', 'Account'\n",
    "#acr_elps = accre.sort_values(by='Elapsed', ascending=False)[['JobID', 'JobIDRaw', 'Account', 'Group', 'GID', 'User', 'Submit','End','Elapsed_calc', 'Elapsed']]\n",
    "acr_elps = accre[['JobID', 'JobIDRaw', 'Account', 'Group', 'GID', 'User', 'Submit','End','Elapsed_calc', 'Elapsed']]\n",
    "acr_elps.head()"
   ]
  },
  {
   "cell_type": "code",
   "execution_count": null,
   "metadata": {},
   "outputs": [],
   "source": [
    "#randomization of dataset with reduced amount of data\n",
    "#indices = np.random.randint(0, len(accre_user_elapsed), 500)\n",
    "#random_elapsed = accre_user_elapsed.iloc[indices,:]\n",
    "#random_elapsed.head(10)"
   ]
  },
  {
   "cell_type": "code",
   "execution_count": null,
   "metadata": {},
   "outputs": [],
   "source": [
    "#Checking stats of Elapsed\n",
    "acr_elps.Elapsed.describe()"
   ]
  },
  {
   "cell_type": "code",
   "execution_count": null,
   "metadata": {},
   "outputs": [],
   "source": [
    "#Extracting days and non-days time values from Elapsed\n",
    "acr_elps['elapsed_days'] = acr_elps['Elapsed'].str.extract('(\\d+)-', expand=True).fillna('0')\n",
    "acr_elps['elapsed_hms'] = acr_elps['Elapsed'].str.extract('(\\d+:\\d+:\\d+)', expand=True)\n",
    "acr_elps.head()\n"
   ]
  },
  {
   "cell_type": "code",
   "execution_count": null,
   "metadata": {},
   "outputs": [],
   "source": [
    "# Converting elapsed_hms to date time format\n",
    "\n",
    "def time_converter(x):\n",
    "#    print(x.elapsed_hms)\n",
    "    return timedelta(\n",
    "         hours=(int(x['elapsed_days'][0]) * 24) + int(x['elapsed_hms'][0:2]),\n",
    "         minutes=int(x['elapsed_hms'][3:5]),\n",
    "         seconds=int(x['elapsed_hms'][6:])\n",
    "     )\n",
    "\n",
    "acr_elps['elapsed_time'] = acr_elps.apply(time_converter, axis=1)\n",
    "\n",
    "acr_elps.head()"
   ]
  },
  {
   "cell_type": "code",
   "execution_count": null,
   "metadata": {},
   "outputs": [],
   "source": [
    "acr_elps = acr_elps.drop(['Elapsed', 'elapsed_days', 'elapsed_hms'], axis=1)\n",
    "acr_elps.head()"
   ]
  },
  {
   "cell_type": "code",
   "execution_count": null,
   "metadata": {},
   "outputs": [],
   "source": [
    "acr_elps.info()"
   ]
  },
  {
   "cell_type": "code",
   "execution_count": null,
   "metadata": {},
   "outputs": [],
   "source": [
    "acr_elps.elapsed_time.describe()"
   ]
  },
  {
   "cell_type": "code",
   "execution_count": null,
   "metadata": {},
   "outputs": [],
   "source": [
    "acr_elps['User'].value_counts()"
   ]
  },
  {
   "cell_type": "code",
   "execution_count": null,
   "metadata": {},
   "outputs": [],
   "source": [
    "#accre_user_elapsed.groupby('User')['elapsed_time'].value_counts()\n",
    "#small_jobs = pd.DataFrame(acr_elps[acr_elps['elapsed_time'] < timedelta(minutes = 5)].groupby('User')['elapsed_time'].count())\n",
    "#small_jobs = acr_elps[acr_elps['elapsed_time'] < timedelta(minutes = 5)].groupby('User')['elapsed_time'].value_counts().to_frame().reset_index()\n",
    "#small_jobs\n",
    "acr_elps[acr_elps['elapsed_time'] < timedelta(minutes = 5)].groupby('User')['elapsed_time'].value_counts()\n"
   ]
  },
  {
   "cell_type": "code",
   "execution_count": null,
   "metadata": {},
   "outputs": [],
   "source": [
    "# Goal is to generate a table of users, jobids (within 4 hours time) and elapsed time (<5min)\n",
    "\n",
    "#small_jobs_rolling = pd.DataFrame(acr_elps[acr_elps['elapsed_time'] < timedelta(minutes = 5)])#.groupby(['User', 'Submit']).rolling('4h', on='Submit').JobID.count())#.sort_values(by=['User', 'Submit']).reset_index()\n",
    "\n",
    "small_jobs = pd.DataFrame(acr_elps[acr_elps['elapsed_time'] < timedelta(minutes = 5)])\n",
    "\n",
    "small_jobs.head()\n",
    "\n"
   ]
  },
  {
   "cell_type": "code",
   "execution_count": null,
   "metadata": {},
   "outputs": [],
   "source": [
    "small_jobs.shape"
   ]
  },
  {
   "cell_type": "code",
   "execution_count": null,
   "metadata": {},
   "outputs": [],
   "source": [
    "small_jobs.sort_values('Submit', inplace=True)"
   ]
  },
  {
   "cell_type": "code",
   "execution_count": null,
   "metadata": {},
   "outputs": [],
   "source": [
    "# Goal is to generate a table of users, jobids (within 4 hours time) and elapsed time (<5min)\n",
    "\n",
    "small_jobs_rolling = small_jobs.groupby('User').rolling('4h', on='Submit').JobID.count()\n",
    "\n",
    "small_jobs_rolling = pd.DataFrame(small_jobs_rolling).reset_index()\n",
    "#small_jobs_rolling.to_frame().reset_index().head()\n",
    "print(small_jobs_rolling.head())\n",
    "print(small_jobs_rolling.shape)"
   ]
  },
  {
   "cell_type": "code",
   "execution_count": null,
   "metadata": {},
   "outputs": [],
   "source": [
    "#small_jobs_rolling\n",
    "\n",
    "#small_jobs_rolling1 = small_jobs[small_jobs.groupby('User').rolling('4h', on='Submit').JobID.count()]"
   ]
  },
  {
   "cell_type": "code",
   "execution_count": null,
   "metadata": {},
   "outputs": [],
   "source": [
    "print(small_jobs_rolling.value_counts(ascending=False))\n",
    "print(small_jobs_rolling.head())"
   ]
  },
  {
   "cell_type": "code",
   "execution_count": null,
   "metadata": {},
   "outputs": [],
   "source": [
    "boxplot = acr_elps.boxplot(column='elapsed_time',by='User')"
   ]
  },
  {
   "cell_type": "code",
   "execution_count": null,
   "metadata": {},
   "outputs": [],
   "source": [
    "sns.jointplot(x='User', y='elapsed_time', data=data_returns"
   ]
  },
  {
   "cell_type": "code",
   "execution_count": null,
   "metadata": {},
   "outputs": [],
   "source": [
    "boxplot = acr_elps.boxplot ser.resample('D').sum().plot()"
   ]
  },
  {
   "cell_type": "code",
   "execution_count": null,
   "metadata": {},
   "outputs": [],
   "source": []
  }
 ],
 "metadata": {
  "kernelspec": {
   "display_name": "Python 3",
   "language": "python",
   "name": "python3"
  },
  "language_info": {
   "codemirror_mode": {
    "name": "ipython",
    "version": 3
   },
   "file_extension": ".py",
   "mimetype": "text/x-python",
   "name": "python",
   "nbconvert_exporter": "python",
   "pygments_lexer": "ipython3",
   "version": "3.6.5"
  }
 },
 "nbformat": 4,
 "nbformat_minor": 2
}
